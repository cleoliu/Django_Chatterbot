{
  "nbformat": 4,
  "nbformat_minor": 0,
  "metadata": {
    "colab": {
      "name": "django_chatterbot.ipynb",
      "provenance": [],
      "collapsed_sections": [],
      "toc_visible": true,
      "include_colab_link": true
    },
    "kernelspec": {
      "name": "python3",
      "display_name": "Python 3"
    }
  },
  "cells": [
    {
      "cell_type": "markdown",
      "metadata": {
        "id": "view-in-github",
        "colab_type": "text"
      },
      "source": [
        "<a href=\"https://colab.research.google.com/github/cleoliu/Django_Chatterbot/blob/main/django_chatterbot.ipynb\" target=\"_parent\"><img src=\"https://colab.research.google.com/assets/colab-badge.svg\" alt=\"Open In Colab\"/></a>"
      ]
    },
    {
      "cell_type": "markdown",
      "metadata": {
        "id": "xZN0_TTbGed0"
      },
      "source": [
        "# 第一步驟: 將自己的 Google Drive 連結到這本 Google Colab Notebook\n",
        "\n",
        "> Indented block\n",
        "\n",
        "\n",
        "* 大家可以點擊右上角 Connect > Connect to hosted runtime 藉以使用 Google 的機器喔\n",
        "* 連上之後執行下方的程式碼\n",
        "* 點擊下方跳出的藍色連結\n",
        "* 選擇要連結的 Google Account\n",
        "* 將一長串類似於 token 的亂碼複製並貼在 textbot 內\n",
        "* 完成後將會發現左方資料夾內容和 Google Drive 的內容同步了\n"
      ]
    },
    {
      "cell_type": "code",
      "metadata": {
        "id": "GkLUNkqk86xn",
        "colab": {
          "base_uri": "https://localhost:8080/"
        },
        "outputId": "ac665d7d-8eac-454e-9edd-343636ed0b9c"
      },
      "source": [
        "from google.colab import drive\n",
        "drive.mount(\"/content/drive\")"
      ],
      "execution_count": 2,
      "outputs": [
        {
          "output_type": "stream",
          "text": [
            "Mounted at /content/drive\n"
          ],
          "name": "stdout"
        }
      ]
    },
    {
      "cell_type": "markdown",
      "metadata": {
        "id": "MBMoushJHz9m"
      },
      "source": [
        "# 第二步驟: 切換路徑並下載專案\n",
        "* 在 Google Colab 使用 `%cd` 表示切換進後方目錄；假設是使用 `!cd` 則只會顯示後方目錄的位置，並不會**真的切換**進入。\n",
        "* 其使用 shell command 的方式就是我們習慣的那些 term，只是在使用之前需要用 `%` 或是 `!` 來告訴 Google Colab 這個是 shell command，而不是普通的 python 語法。\n"
      ]
    },
    {
      "cell_type": "code",
      "metadata": {
        "id": "WJK1352A9Rd-",
        "colab": {
          "base_uri": "https://localhost:8080/"
        },
        "outputId": "ba3b35d0-17ad-45f9-cb25-bca5dbba0d20"
      },
      "source": [
        "%cd \"./drive/My Drive/Colab Notebooks\"\n",
        "#!mkdir django_chatterbot            # 只有第一次執行此 cell 會需要此行，第二次之後就可以把這一行註解掉了\n",
        "%cd django_chatterbot"
      ],
      "execution_count": 3,
      "outputs": [
        {
          "output_type": "stream",
          "text": [
            "/content/drive/My Drive/Colab Notebooks\n",
            "/content/drive/My Drive/Colab Notebooks/django_chatterbot\n"
          ],
          "name": "stdout"
        }
      ]
    },
    {
      "cell_type": "code",
      "metadata": {
        "id": "aO6pa3De9cdE",
        "colab": {
          "base_uri": "https://localhost:8080/"
        },
        "outputId": "00d9fe5b-ab48-42d2-f5d7-28d42bca74ff"
      },
      "source": [
        "# 只有第一次執行此 cell 會需要此行，第二次之後就可以把這一行註解掉了\n",
        "#!git clone https://github.com/gunthercox/ChatterBot.git"
      ],
      "execution_count": 3,
      "outputs": [
        {
          "output_type": "stream",
          "text": [
            "Cloning into 'ChatterBot'...\n",
            "remote: Enumerating objects: 12816, done.\u001b[K\n",
            "remote: Total 12816 (delta 0), reused 0 (delta 0), pack-reused 12816\u001b[K\n",
            "Receiving objects: 100% (12816/12816), 4.23 MiB | 1.12 MiB/s, done.\n",
            "Resolving deltas: 100% (8931/8931), done.\n"
          ],
          "name": "stdout"
        }
      ]
    },
    {
      "cell_type": "code",
      "metadata": {
        "id": "BrKBFcXf_HSK",
        "colab": {
          "base_uri": "https://localhost:8080/"
        },
        "outputId": "e6cc894f-65ee-40b9-d586-f838b4aa5976"
      },
      "source": [
        "%cd \"./ChatterBot/examples/django_app\"\n",
        "!ls"
      ],
      "execution_count": 4,
      "outputs": [
        {
          "output_type": "stream",
          "text": [
            "/content/drive/My Drive/Colab Notebooks/django_chatterbot/ChatterBot/examples/django_app\n",
            "db.sqlite3\t\t\tngrok-stable-linux-amd64.zip.3\n",
            "example_app\t\t\tngrok-stable-linux-amd64.zip.4\n",
            "manage.py\t\t\tngrok-stable-linux-amd64.zip.5\n",
            "ngrok\t\t\t\tngrok-stable-linux-amd64.zip.6\n",
            "ngrok-stable-linux-amd64.zip\tREADME.rst\n",
            "ngrok-stable-linux-amd64.zip.1\trequirements.txt\n",
            "ngrok-stable-linux-amd64.zip.2\ttests\n"
          ],
          "name": "stdout"
        }
      ]
    },
    {
      "cell_type": "markdown",
      "metadata": {
        "id": "C5i4Ty8yJXMN"
      },
      "source": [
        "* ### 上方 cell 顯示的內容其中會包含一個 requirements.txt，這個檔案是用來告訴新的開發者們應該要 install 什麼特定版本的特定套件。\n",
        "* ### 由於開發需要請大家在左側的目錄當中，雙擊點開 ***../ ChatterBot/ examples/ django_app/ requirements.txt***，並將第二行的註解拿掉，因為我們希望可以一起 install chatterbot，所以整體會變成這樣:\n",
        "\n",
        "```\n",
        "# 只有第一次需要改此文件\n",
        "django>=2.2,<2.3\n",
        "chatterbot>=0.8,<1.1\n",
        "```"
      ]
    },
    {
      "cell_type": "code",
      "metadata": {
        "id": "brDQCZZ4_Y48"
      },
      "source": [
        "!pip3 install -r requirements.txt"
      ],
      "execution_count": null,
      "outputs": []
    },
    {
      "cell_type": "markdown",
      "metadata": {
        "id": "1I9ER9p6_EEx"
      },
      "source": [
        "# 調整 settings.py (只有第一次執行此步驟)\r\n",
        "* ***drive/ My Drive/ django_chatterbot/ ChatterBot/ examples/ django_app/ examples_app/\r\n",
        "settings.py*** 裡面的 **MIDDLEWARE_CLASSES** 需要置換成 **MIDDLEWARE**，然後要將其中的一行設定註解掉。\r\n",
        "\r\n",
        "\r\n",
        "```\r\n",
        "MIDDLEWARE  = (\r\n",
        "    'django.contrib.sessions.middleware.SessionMiddleware',\r\n",
        "    'django.middleware.common.CommonMiddleware',\r\n",
        "    'django.contrib.auth.middleware.AuthenticationMiddleware',\r\n",
        "    # 'django.contrib.auth.middleware.SessionAuthenticationMiddleware', 記得註解\r\n",
        "    'django.contrib.messages.middleware.MessageMiddleware',\r\n",
        "    'django.middleware.clickjacking.XFrameOptionsMiddleware',\r\n",
        "    'django.middleware.security.SecurityMiddleware',\r\n",
        ")\r\n",
        "```\r\n",
        "\r\n"
      ]
    },
    {
      "cell_type": "markdown",
      "metadata": {
        "id": "e8PUQq0UKpCq"
      },
      "source": [
        "### 安裝好之後，利用 `python manage.py migrate` 將 migrations 全部 apply"
      ]
    },
    {
      "cell_type": "code",
      "metadata": {
        "id": "gfd1SA7qA6YV"
      },
      "source": [
        "! python manage.py migrate"
      ],
      "execution_count": null,
      "outputs": []
    },
    {
      "cell_type": "markdown",
      "metadata": {
        "id": "nwJwqfIxK42_"
      },
      "source": [
        "# 第三步驟: Run Server"
      ]
    },
    {
      "cell_type": "code",
      "metadata": {
        "id": "biWmVhyTOZBc"
      },
      "source": [
        "! python manage.py runserver"
      ],
      "execution_count": null,
      "outputs": []
    },
    {
      "cell_type": "markdown",
      "metadata": {
        "id": "xdFm2KzvLgCI"
      },
      "source": [
        "# 第四步驟: 讓服務 Run 在 Public IP 上\n",
        "* 在第三步驟中出現的連結 http:// 127.0.0.1:8000/ ，只是 Google 那邊某台電腦的 localhost 而已，並非是我們可以從自己的瀏覽器可以到達的地方，所以和昨天我們操作的內容相當相似，我們在這一步驟會將服務 run 在 Public IP 上。\n",
        "* 所以先請大家將上方正在 run 的 cell 關起來(點擊 cell 右方的中止 icon)。\n",
        "* 在下面我們一樣會使用 Ngrok 這個好用的工具幫我們把服務放上 Public IP"
      ]
    },
    {
      "cell_type": "code",
      "metadata": {
        "id": "SecufutlLcDa"
      },
      "source": [
        "### 安裝 Ngrok\n",
        "!wget https://bin.equinox.io/c/4VmDzA7iaHb/ngrok-stable-linux-amd64.zip\n",
        "!unzip ngrok-stable-linux-amd64.zip\n",
        "\n",
        "### Run ngrok to tunnel Django app port 8050 to the outside world. \n",
        "### This command runs in the background.\n",
        "get_ipython().system_raw('./ngrok http 8050 &')\n",
        "\n",
        "### Get the public URL where you can access the Dash app. Copy this URL.\n",
        "! curl -s http://localhost:4040/api/tunnels | python3 -c \\\n",
        "    \"import sys, json; print(json.load(sys.stdin)['tunnels'][0]['public_url'])\""
      ],
      "execution_count": null,
      "outputs": []
    },
    {
      "cell_type": "markdown",
      "metadata": {
        "id": "K38XCICx-eL0"
      },
      "source": [
        "* 在這邊，將會得到類似於 https://c1fed6636b67.ngrok.io 這樣子的網址，這就是我們要用的 Public IP\r\n",
        "* 請大家將其中的 c1fed6636b67.ngrok.io 加入到 ***ChatterBot/ examples/ django_app/ example_app/ settings.py*** 內的 ***ALLOWED_HOSTS*** 裡面。\r\n",
        "* 接著就可以進到 https://c1fed6636b67.ngrok.io 使用 chatbot 服務了!"
      ]
    }
  ]
}